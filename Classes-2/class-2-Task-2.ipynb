{
 "cells": [
  {
   "cell_type": "code",
   "execution_count": 1,
   "id": "d8074136",
   "metadata": {},
   "outputs": [],
   "source": [
    "import numpy as np\n",
    "import matplotlib.pyplot as plt\n",
    "from scipy.fft import fft, ifft"
   ]
  },
  {
   "cell_type": "code",
   "execution_count": 2,
   "id": "2b722854",
   "metadata": {},
   "outputs": [],
   "source": [
    "import os\n",
    "import sys\n",
    "# localization\n",
    "currentdir = os.getcwd()"
   ]
  },
  {
   "cell_type": "markdown",
   "id": "12f429de",
   "metadata": {},
   "source": [
    "# Initial condition, sets"
   ]
  },
  {
   "cell_type": "code",
   "execution_count": 3,
   "id": "b42b9888",
   "metadata": {},
   "outputs": [],
   "source": [
    "# inital sets, position of x0 and p0. One important remark we use now specifit walue of n0, m0. Stability island\n",
    "#from previous classes.\n",
    "M = 1000\n",
    "n0 = 5\n",
    "m0 = 400\n",
    "\n",
    "x0 = 2*np.pi*n0/M\n",
    "p0 = 2*np.pi*m0/M\n",
    "heff = 2*np.pi/M # effective planck contants\n",
    "\n",
    "n = np.arange(M) # corresponding to position (x)\n",
    "m = np.arange(M) # corresponding to momentum (p)\n",
    "# print(n)\n",
    "\n",
    "# prepare the values of position (x) and momenta\n",
    "x_list = np.zeros(M) # belongs to [0, 2*np.pi] each element\n",
    "p_list = np.zeros(M) # belongs to [0, 2*np.pi] each element\n",
    "\n",
    "for i in range(0, M):\n",
    "    # position     \n",
    "    x = 2*np.pi*n[i]/M\n",
    "    x_list[i] = x\n",
    "    # momenta\n",
    "    p = 2*np.pi*m[i]/M\n",
    "    p_list[i] = p"
   ]
  },
  {
   "cell_type": "markdown",
   "id": "22c86f0f",
   "metadata": {},
   "source": [
    "# Prepare normalized Gaussian wave packet: $\\psi_{G} (x_{n})$"
   ]
  },
  {
   "cell_type": "code",
   "execution_count": 4,
   "id": "d2b09327",
   "metadata": {},
   "outputs": [],
   "source": [
    "'''\n",
    "We will prepare the normalised Gaussian wave packet. We will use following shortcuts:\n",
    "    cal: calculate\n",
    "    MoI: methof of images\n",
    "    norm: normalisation\n",
    "    f: factor\n",
    "    \n",
    "In this cell we just set some of functions, which we will use to find normalised Gaussian\n",
    "wave packet\n",
    "'''\n",
    "\n",
    "################################ AMPLITUDE AND NORMALISATION ################################\n",
    "def cal_amplitude(_wave):\n",
    "    \"\"\"\n",
    "    Calculate the amplitude of taken single _wave function\n",
    "    \n",
    "    :param: _wave: single wave function [complex vector].\n",
    "    return: the amplitude of _wave function [float]\n",
    "    \"\"\"\n",
    "    amplitude = _wave.real * _wave.real + _wave.imag * _wave.imag\n",
    "    return amplitude\n",
    "\n",
    "def cal_norm(_sup_waves):\n",
    "    \"\"\"\n",
    "    Find the normalisation of the superpositions of wave functions\n",
    "    \n",
    "    :param: _sup_waves: list of wave functions, which create superpositions wave function.\n",
    "                        In different word we take into account every wave function, which\n",
    "                        exists in system.\n",
    "    return: normalisation factor\n",
    "    \"\"\"\n",
    "    n_waves = len(_sup_waves) # number of waves\n",
    "    f_norm = 0\n",
    "    \n",
    "    for i in range(0,n_waves):\n",
    "        amplitude = cal_amplitude(_sup_waves[i])\n",
    "        f_norm = f_norm + np.sqrt(amplitude)\n",
    "    \n",
    "    return f_norm\n",
    "\n",
    "################################ SINGLE WAVE FUNCTION ################################\n",
    "def psi0(x):\n",
    "    \"\"\"\n",
    "    :param: x: descritised position\n",
    "    return: single wave function [complex vector].\n",
    "    \"\"\"\n",
    "    val_psi0 = np.exp(1j * p0 * x / heff) * np.exp(- (x - x0)**2 / (2 * heff))\n",
    "    return val_psi0\n",
    "\n",
    "def cal_wave_MoI(x):\n",
    "    \"\"\"\n",
    "    take linear combination of some wave function: 'method of images'\n",
    "    that gives us wave function, which is periodic.\n",
    "    \n",
    "    :param: x: descritised position\n",
    "    return: superposition of few wave functions [complex vector]\n",
    "    \"\"\"\n",
    "    # we will sum up for |d| = 4.\n",
    "    val_psiG = 0\n",
    "    for d in range(-4,4):\n",
    "        val_psiG = val_psiG + psi0(x + 2*np.pi*d)\n",
    "    \n",
    "    return val_psiG"
   ]
  },
  {
   "cell_type": "code",
   "execution_count": 5,
   "id": "fe208d3e",
   "metadata": {},
   "outputs": [
    {
     "name": "stdout",
     "output_type": "stream",
     "text": [
      "normalised factor of normalised gaussian wave function is (should be 1): 0.9999999999999996\n"
     ]
    }
   ],
   "source": [
    "def normGaussianPacked(_x_list):\n",
    "    \"\"\"\n",
    "    Find the normalised gaussian wave function\n",
    "    \n",
    "    :param: _x_list: list containg the values of position\n",
    "    return: normalised gaussian wave factor list of [complex vector]\n",
    "    \"\"\"\n",
    "    M = len(_x_list)\n",
    "    psiG = np.zeros(M, dtype=complex) # complex vector\n",
    "    \n",
    "    #calculate gaussian wave package\n",
    "    for i in range(0, M):\n",
    "        x = _x_list[i]\n",
    "        # calculate gaussian packaked\n",
    "        val_psiG = cal_wave_MoI(x)\n",
    "        psiG[i] = val_psiG\n",
    "        \n",
    "    # find normalised factor\n",
    "    f_norm = cal_norm(psiG)\n",
    "    \n",
    "    # rescalled gaussian wave packed: Normalisation\n",
    "    for i in range(0, M):\n",
    "        psiG[i] = 1/f_norm * psiG[i]\n",
    "\n",
    "    return psiG\n",
    "\n",
    "# lest check\n",
    "psiG = normGaussianPacked(x_list)\n",
    "# print(psiG)\n",
    "\n",
    "f_norm = cal_norm(psiG)\n",
    "print('normalised factor of normalised gaussian wave function is (should be 1):', f_norm)"
   ]
  },
  {
   "cell_type": "markdown",
   "id": "e2acbc9a",
   "metadata": {},
   "source": [
    "# Do one step in gaussian packet evolution"
   ]
  },
  {
   "cell_type": "code",
   "execution_count": 6,
   "id": "4b927105",
   "metadata": {},
   "outputs": [],
   "source": [
    "\"\"\"\n",
    "We calculate the quantum dynamics of our standard map. In another words\n",
    "this time our gaussian wave packed will evolves.\n",
    "\"\"\"\n",
    "def pot_V(x, _K):\n",
    "    \"\"\"\n",
    "    The phase vector, which depends on position. Phase vector for\n",
    "    in the positional notation / space.\n",
    "    \n",
    "    :param: x: descritised position.\n",
    "    :param: _K: some constant.\n",
    "    return: Phase vector [complex vector]\n",
    "    \"\"\"\n",
    "    val_V = np.exp(-1j/heff * _K * np.cos(x))\n",
    "    return val_V\n",
    "\n",
    "def Momenta_P(p):\n",
    "    \"\"\"\n",
    "    The phase vector, which depends on momentum. Phase vector for\n",
    "    in the momentum notation / space.\n",
    "    \n",
    "    :param: p: descritised momentum.\n",
    "    return: Phase vector [complex vector]\n",
    "    \"\"\"\n",
    "    val_P = np.exp(-1j/ (2*heff) * p**2)\n",
    "    return val_P\n",
    "\n",
    "def do_one_step(_wavef, _K):\n",
    "    \"\"\"\n",
    "    Do one step in evolution our _wavef.\n",
    "    \n",
    "    :param: _wavef: normalised gaussian wave function\n",
    "    :param: _K: some constant. Using for pot_V(x, _K).\n",
    "    return: gaussian packed wave fanctions. List of [complex vector] after a 'one step'\n",
    "            in evolution. One remark: after this evolution it will no longer be normalised!\n",
    "    \"\"\"\n",
    "    psiG_evo = []\n",
    "    # first step\n",
    "    for i in range(0,M):\n",
    "        x = x_list[i]\n",
    "        # calculate\n",
    "        _wavef[i] = _wavef[i] * pot_V(x, _K)\n",
    "\n",
    "    # second step\n",
    "    fft_psiG = fft(_wavef)\n",
    "\n",
    "    # third step\n",
    "    for i in range(0,M):\n",
    "        p = p_list[i]\n",
    "        # calculate\n",
    "        fft_psiG[i] = fft_psiG[i] * Momenta_P(p)\n",
    "\n",
    "    # fourth step\n",
    "    psiG_evo = ifft(fft_psiG)\n",
    "    return psiG_evo"
   ]
  },
  {
   "cell_type": "code",
   "execution_count": 7,
   "id": "48d658f3",
   "metadata": {},
   "outputs": [
    {
     "name": "stdout",
     "output_type": "stream",
     "text": [
      "normalised factor of normalised gaussian wave function is (should be 1): 1.1892071150030448\n",
      "after evolution our gaussian packed is stops being normalised.\n"
     ]
    }
   ],
   "source": [
    "# we prepare normalised gaussian w.f.\n",
    "psiG = normGaussianPacked(x_list)\n",
    "# do a one step\n",
    "K = 0.0\n",
    "psiG_evo = do_one_step(psiG, K)\n",
    "\n",
    "# print(psiG_evo)\n",
    "f_norm = cal_norm(psiG_evo)\n",
    "print('normalised factor of normalised gaussian wave function is (should be 1):', f_norm)\n",
    "print('after evolution our gaussian packed is stops being normalised.')"
   ]
  },
  {
   "cell_type": "markdown",
   "id": "9711b106",
   "metadata": {},
   "source": [
    "# Show evolution of gaussian packed for K = 0.0"
   ]
  },
  {
   "cell_type": "code",
   "execution_count": 10,
   "id": "0443cf63",
   "metadata": {},
   "outputs": [
    {
     "name": "stdout",
     "output_type": "stream",
     "text": [
      "Directory  C:\\Users\\Krzysztof\\Desktop\\Magisterka\\Semestr IV\\Computer-modeling\\Classes-2/K_0.0_n0_5_m0_400  already exists\n"
     ]
    }
   ],
   "source": [
    "# inital sets. We will also x_list, y_list, n0, m0, etc (first cell)\n",
    "step0 = 1\n",
    "K = 0.0\n",
    "\n",
    "################################ CREATE DIRECTORY TO PUT PLOTS ################################\n",
    "output_plots_path = currentdir + '/K_' + str(K) + '_n0_' + str(n0) + '_m0_' + str(m0)\n",
    "try:\n",
    "    # Create target Directory\n",
    "    os.mkdir(output_plots_path)\n",
    "    print(\"Directory \" , output_plots_path ,  \" Created \")\n",
    "except FileExistsError:\n",
    "    print(\"Directory \" , output_plots_path ,  \" already exists\")\n",
    "        \n",
    "################################ MAKE PLOTS  ################################\n",
    "for picture in range(0,40):\n",
    "    # for every picture you will make. Set how many you want to repeat 'steps in evolution'\n",
    "    steps = step0 + picture\n",
    "    # steps = step0 + picture * 2\n",
    "\n",
    "    # initall\n",
    "    ampl_evo = np.zeros(M)\n",
    "    psiG_evo = normGaussianPacked(x_list)\n",
    "    \n",
    "    for i in range(0, steps):\n",
    "        # new step in gaussian function\n",
    "        psiG_evo = do_one_step(psiG_evo, K)\n",
    "\n",
    "        for j in range(0,M):\n",
    "            # for every wave in supperposition\n",
    "            wave = psiG_evo[j]\n",
    "            val_amp = cal_amplitude(wave)\n",
    "            ampl_evo[j] = val_amp\n",
    "\n",
    "    fig, ax = plt.subplots(figsize=(9.0, 6.0))\n",
    "    ax.set_title(f'gaussian packed in step: {steps}', fontsize=22, loc='left')\n",
    "    # data\n",
    "    ax.plot(x_list, ampl_evo, label='probalibity of gaussian wave function')\n",
    "    plt.axvline(x = x0, color = 'black', linestyle='dashed', label = f'x0 = {x0}')\n",
    "\n",
    "    # describtion\n",
    "    ax.set_ylabel(r\"$|\\psi(x_{n})|^2$\", fontsize=18)\n",
    "    ax.set_xlabel(r\"$x_{n}$\", fontsize=18)\n",
    "    ax.tick_params(axis='both', which='major', labelsize=12)\n",
    "    ax.grid(True)\n",
    "\n",
    "    ax.legend()\n",
    "    # plt.show()\n",
    "    plt.savefig(output_plots_path + '/' + 'wave-move-' + str(picture) + '.png')\n",
    "\n",
    "    plt.close(fig)"
   ]
  },
  {
   "cell_type": "markdown",
   "id": "ef2ce910",
   "metadata": {},
   "source": [
    "# Show evolution of gaussian packed for K = 1.1"
   ]
  },
  {
   "cell_type": "code",
   "execution_count": 11,
   "id": "e7f590f4",
   "metadata": {},
   "outputs": [
    {
     "name": "stdout",
     "output_type": "stream",
     "text": [
      "Directory  C:\\Users\\Krzysztof\\Desktop\\Magisterka\\Semestr IV\\Computer-modeling\\Classes-2/K_1.1_n0_5_m0_400  Created \n"
     ]
    }
   ],
   "source": [
    "# inital sets. We will also x_list, y_list, n0, m0, etc (first cell)\n",
    "step0 = 1\n",
    "K = 1.1\n",
    "\n",
    "################################ CREATE DIRECTORY TO PUT PLOTS ################################\n",
    "output_plots_path = currentdir + '/K_' + str(K) + '_n0_' + str(n0) + '_m0_' + str(m0)\n",
    "try:\n",
    "    # Create target Directory\n",
    "    os.mkdir(output_plots_path)\n",
    "    print(\"Directory \" , output_plots_path ,  \" Created \")\n",
    "except FileExistsError:\n",
    "    print(\"Directory \" , output_plots_path ,  \" already exists\")\n",
    "        \n",
    "################################ MAKE PLOTS  ################################\n",
    "for picture in range(0,40):\n",
    "    # for every picture you will make. Set how many you want to repeat 'steps in evolution'\n",
    "    steps = step0 + picture\n",
    "    # steps = step0 + picture * 2\n",
    "\n",
    "    # initall\n",
    "    ampl_evo = np.zeros(M)\n",
    "    psiG_evo = normGaussianPacked(x_list)\n",
    "    \n",
    "    for i in range(0, steps):\n",
    "        # new step in gaussian function\n",
    "        psiG_evo = do_one_step(psiG_evo, K)\n",
    "\n",
    "        for j in range(0,M):\n",
    "            # for every wave in supperposition\n",
    "            wave = psiG_evo[j]\n",
    "            val_amp = cal_amplitude(wave)\n",
    "            ampl_evo[j] = val_amp\n",
    "\n",
    "    fig, ax = plt.subplots(figsize=(9.0, 6.0))\n",
    "    ax.set_title(f'gaussian packed in step: {steps}', fontsize=22, loc='left')\n",
    "    # data\n",
    "    ax.plot(x_list, ampl_evo, label='probalibity of gaussian wave function')\n",
    "    plt.axvline(x = x0, color = 'black', linestyle='dashed', label = f'x0 = {x0}')\n",
    "\n",
    "    # describtion\n",
    "    ax.set_ylabel(r\"$|\\psi(x_{n})|^2$\", fontsize=18)\n",
    "    ax.set_xlabel(r\"$x_{n}$\", fontsize=18)\n",
    "    ax.tick_params(axis='both', which='major', labelsize=12)\n",
    "    ax.grid(True)\n",
    "\n",
    "    ax.legend()\n",
    "    # plt.show()\n",
    "    plt.savefig(output_plots_path + '/' + 'wave-move-' + str(picture) + '.png')\n",
    "\n",
    "    plt.close(fig)"
   ]
  },
  {
   "cell_type": "code",
   "execution_count": null,
   "id": "b3ca5a8e",
   "metadata": {},
   "outputs": [],
   "source": []
  }
 ],
 "metadata": {
  "kernelspec": {
   "display_name": "Python 3 (ipykernel)",
   "language": "python",
   "name": "python3"
  },
  "language_info": {
   "codemirror_mode": {
    "name": "ipython",
    "version": 3
   },
   "file_extension": ".py",
   "mimetype": "text/x-python",
   "name": "python",
   "nbconvert_exporter": "python",
   "pygments_lexer": "ipython3",
   "version": "3.9.13"
  }
 },
 "nbformat": 4,
 "nbformat_minor": 5
}
