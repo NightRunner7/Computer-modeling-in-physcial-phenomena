{
 "cells": [
  {
   "cell_type": "code",
   "execution_count": 1,
   "id": "94287289",
   "metadata": {},
   "outputs": [],
   "source": [
    "import numpy as np"
   ]
  },
  {
   "cell_type": "code",
   "execution_count": 2,
   "id": "e59606de",
   "metadata": {},
   "outputs": [],
   "source": [
    "def random_lattice(n_size=50, init_lattices=1):\n",
    "    \"\"\"\n",
    "    :param n_size: the size of lattice, which you want to create. We interested in\n",
    "        square lattice: our goal is the chessboard.\n",
    "    :param init_lattices: how many 2D lattice you want to create.\n",
    "    :return: the list of 2D lattices.\n",
    "\n",
    "    lat: lattice\n",
    "    \"\"\"\n",
    "    init_lat_all = []\n",
    "    for time in range(0, init_lattices):\n",
    "        init_lat = np.random.randint(2, size=(n_size, n_size))\n",
    "        init_lat_all.append(init_lat)\n",
    "\n",
    "    return init_lat_all"
   ]
  },
  {
   "cell_type": "code",
   "execution_count": 3,
   "id": "997c6222",
   "metadata": {},
   "outputs": [],
   "source": [
    "n_size = 5\n",
    "init_lattices = 1\n",
    "\n",
    "lattice = random_lattice(n_size, init_lattices)[0]"
   ]
  },
  {
   "cell_type": "code",
   "execution_count": 4,
   "id": "204a8112",
   "metadata": {},
   "outputs": [
    {
     "name": "stdout",
     "output_type": "stream",
     "text": [
      "[[1 1 1 1 1]\n",
      " [0 1 0 0 0]\n",
      " [1 0 1 0 0]\n",
      " [1 0 0 0 1]\n",
      " [0 1 1 0 1]]\n"
     ]
    }
   ],
   "source": [
    "print(lattice)"
   ]
  },
  {
   "cell_type": "code",
   "execution_count": 5,
   "id": "0898906d",
   "metadata": {},
   "outputs": [],
   "source": [
    "def create_fitting(D2_lat):\n",
    "    \"\"\"\n",
    "    :param D2_lat:\n",
    "    :return:\n",
    "    \"\"\"\n",
    "    n_size = len(D2_lat)  # size of lattice of our interest\n",
    "\n",
    "    \n",
    "    # --- (1) I punish for having the same state: i-one down, j-one right\n",
    "    # cells, which we consider\n",
    "    l_im1_j = np.roll(np.roll(D2_lat, -1, axis=0), 0, axis=1)\n",
    "    l_i_jm1 = np.roll(np.roll(D2_lat, 0, axis=0), -1, axis=1)\n",
    "    # punish by: `-3` points\n",
    "    sel_1a = (D2_lat == l_im1_j).astype(int)\n",
    "    sel_1b = (D2_lat == l_i_jm1).astype(int)\n",
    "\n",
    "    \n",
    "    # sel_1a = np.array(D2_lat + l_ip1_j, dtype=bool)\n",
    "    # sel_1b = np.array(D2_lat + l_i_jp1, dtype=bool)\n",
    "    sel_1 = np.array(sel_1a * (-3) + sel_1b * (-3), dtype=int)\n",
    "    # for which cell we consider `selection 1`: even once\n",
    "    prep_cells_1a = np.array(sel_1a + sel_1b, dtype=int)\n",
    "    prep_cells_1b = np.where(prep_cells_1a >= 1, 1, 0)\n",
    "    prep_cells_1 = np.array(prep_cells_1b, dtype=bool)\n",
    "\n",
    "    print('sel_1a: one down')\n",
    "    print(sel_1a)\n",
    "    print()\n",
    "    print('sel_1b: one right')\n",
    "    print(sel_1b)\n",
    "    print()\n",
    "    print('sel_1')\n",
    "    print(sel_1)\n",
    "    print()\n",
    "    print('prep_cells_1')\n",
    "    print(prep_cells_1)\n",
    "    print()\n",
    "    print('prep_cells_1a')\n",
    "    print(prep_cells_1a)\n",
    "    print()\n",
    "        \n",
    "#     return sel_1\n",
    "\n",
    "    print('------------------------------------------------------------------------------------')\n",
    "\n",
    "    # --- (2) I give reward for having the same state: (i-one down, j-one left)\n",
    "    #                                                  (i-one down, j-one right)\n",
    "    # Also, I punish for having different state on the `diagonal` to the fixed point\n",
    "    # `1` for fixed cell means we do not consider `selection 1`\n",
    "    after_1 = (np.zeros((n_size, n_size)) == prep_cells_1).astype(int)\n",
    "    # cells, which we consider\n",
    "    l_ip1_jm1 = np.roll(np.roll(D2_lat, -1, axis=0), +1, axis=1)\n",
    "    l_ip1_jp1 = np.roll(np.roll(D2_lat, -1, axis=0), -1, axis=1)\n",
    "    # do selection\n",
    "    sel_2a = (D2_lat == l_ip1_jm1).astype(int)\n",
    "    sel_2b = (D2_lat == l_ip1_jp1).astype(int)\n",
    "    # reward by `+8` points\n",
    "    \n",
    "    \n",
    "    sel_2a_p = (np.logical_and(after_1 == sel_2a, after_1 == 1)).astype(int)\n",
    "    sel_2b_p = (np.logical_and(after_1 == sel_2b, after_1 == 1)).astype(int)\n",
    "    # punish by `-5 points`\n",
    "    sel_2a_n = (np.logical_and(after_1 != sel_2a, after_1 == 1)).astype(int)\n",
    "    sel_2b_n = (np.logical_and(after_1 != sel_2b, after_1 == 1)).astype(int)\n",
    "    # calculate points\n",
    "    sel_2 = np.array(sel_2a_p * 8 + sel_2b_p * 8 + sel_2a_n * (-5) + sel_2b_n * (-5), dtype=int)\n",
    "    \n",
    "    print('after_1')\n",
    "    print(after_1)\n",
    "    print()\n",
    "    print('sel_2a_p')\n",
    "    print(sel_2a_p)\n",
    "    print()\n",
    "    print('sel_2b_p')\n",
    "    print(sel_2b_p)\n",
    "    \n",
    "    print('sel_2a_n')\n",
    "    print(sel_2a_n)\n",
    "    print()\n",
    "    print('sel_2b_n')\n",
    "    print(sel_2b_n)\n",
    "    \n",
    "    \n",
    "    \n",
    "\n",
    "    return sel_1 + sel_2"
   ]
  },
  {
   "cell_type": "code",
   "execution_count": 6,
   "id": "ca9d2da8",
   "metadata": {},
   "outputs": [
    {
     "name": "stdout",
     "output_type": "stream",
     "text": [
      "[[1 1 1 1 1]\n",
      " [0 1 0 0 0]\n",
      " [1 0 1 0 0]\n",
      " [1 0 0 0 1]\n",
      " [0 1 1 0 1]]\n"
     ]
    }
   ],
   "source": [
    "print(lattice)"
   ]
  },
  {
   "cell_type": "code",
   "execution_count": 7,
   "id": "09c9ce53",
   "metadata": {},
   "outputs": [],
   "source": [
    "# l_im1_j = np.roll(np.roll(lattice, -1, axis=0), 0, axis=1)\n",
    "# print('sel_1a: one down')\n",
    "# print(l_im1_j)"
   ]
  },
  {
   "cell_type": "code",
   "execution_count": 8,
   "id": "e4fa05f4",
   "metadata": {},
   "outputs": [],
   "source": [
    "# l_i_jp1 = np.roll(np.roll(lattice, 0, axis=0), 1, axis=1)\n",
    "# print('sel_1b: one right')\n",
    "# print(l_i_jp1)"
   ]
  },
  {
   "cell_type": "code",
   "execution_count": 9,
   "id": "1b893087",
   "metadata": {},
   "outputs": [
    {
     "name": "stdout",
     "output_type": "stream",
     "text": [
      "sel_1a: one down\n",
      "[[0 1 0 0 0]\n",
      " [0 0 0 1 1]\n",
      " [1 1 0 1 0]\n",
      " [0 0 0 1 1]\n",
      " [0 1 1 0 1]]\n",
      "\n",
      "sel_1b: one right\n",
      "[[1 1 1 1 1]\n",
      " [0 0 1 1 1]\n",
      " [0 0 0 1 0]\n",
      " [0 1 1 0 1]\n",
      " [0 1 0 0 0]]\n",
      "\n",
      "sel_1\n",
      "[[-3 -6 -3 -3 -3]\n",
      " [ 0  0 -3 -6 -6]\n",
      " [-3 -3  0 -6  0]\n",
      " [ 0 -3 -3 -3 -6]\n",
      " [ 0 -6 -3  0 -3]]\n",
      "\n",
      "prep_cells_1\n",
      "[[ True  True  True  True  True]\n",
      " [False False  True  True  True]\n",
      " [ True  True False  True False]\n",
      " [False  True  True  True  True]\n",
      " [False  True  True False  True]]\n",
      "\n",
      "prep_cells_1a\n",
      "[[1 2 1 1 1]\n",
      " [0 0 1 2 2]\n",
      " [1 1 0 2 0]\n",
      " [0 1 1 1 2]\n",
      " [0 2 1 0 1]]\n",
      "\n",
      "------------------------------------------------------------------------------------\n",
      "after_1\n",
      "[[0 0 0 0 0]\n",
      " [1 1 0 0 0]\n",
      " [0 0 1 0 1]\n",
      " [1 0 0 0 0]\n",
      " [1 0 0 1 0]]\n",
      "\n",
      "sel_2a_p\n",
      "[[0 0 0 0 0]\n",
      " [1 1 0 0 0]\n",
      " [0 0 0 0 1]\n",
      " [1 0 0 0 0]\n",
      " [0 0 0 0 0]]\n",
      "\n",
      "sel_2b_p\n",
      "[[0 0 0 0 0]\n",
      " [1 1 0 0 0]\n",
      " [0 0 0 0 0]\n",
      " [1 0 0 0 0]\n",
      " [0 0 0 0 0]]\n",
      "sel_2a_n\n",
      "[[0 0 0 0 0]\n",
      " [0 0 0 0 0]\n",
      " [0 0 1 0 0]\n",
      " [0 0 0 0 0]\n",
      " [1 0 0 1 0]]\n",
      "\n",
      "sel_2b_n\n",
      "[[0 0 0 0 0]\n",
      " [0 0 0 0 0]\n",
      " [0 0 1 0 1]\n",
      " [0 0 0 0 0]\n",
      " [1 0 0 1 0]]\n"
     ]
    }
   ],
   "source": [
    "fitting_lattice = create_fitting(lattice)"
   ]
  },
  {
   "cell_type": "code",
   "execution_count": null,
   "id": "c8d25c1f",
   "metadata": {},
   "outputs": [],
   "source": []
  },
  {
   "cell_type": "code",
   "execution_count": null,
   "id": "ce69e305",
   "metadata": {},
   "outputs": [],
   "source": []
  },
  {
   "cell_type": "code",
   "execution_count": null,
   "id": "09eff06a",
   "metadata": {},
   "outputs": [],
   "source": []
  },
  {
   "cell_type": "code",
   "execution_count": null,
   "id": "728b5015",
   "metadata": {},
   "outputs": [],
   "source": []
  },
  {
   "cell_type": "code",
   "execution_count": null,
   "id": "57c2ec00",
   "metadata": {},
   "outputs": [],
   "source": []
  },
  {
   "cell_type": "code",
   "execution_count": 10,
   "id": "a2c0ac6a",
   "metadata": {},
   "outputs": [],
   "source": [
    "lattice = [[0,0,0],\n",
    "           [0,1,0],\n",
    "           [0,0,0]]"
   ]
  },
  {
   "cell_type": "code",
   "execution_count": 11,
   "id": "7855c0dc",
   "metadata": {},
   "outputs": [],
   "source": [
    "def ngb(lattice):\n",
    "    # upper row\n",
    "    l_im1_jm1 = 2**0 * np.roll(np.roll(lattice, -1, axis=0), -1, axis=1)\n",
    "    l_im1_j = 2**1 * np.roll(np.roll(lattice, -1, axis=0), 0, axis=1)\n",
    "    l_im1_jp1 = 2**2 * np.roll(np.roll(lattice, -1, axis=0), +1, axis=1)\n",
    "    # same row\n",
    "    l_i_jm1 = 2**3 * np.roll(np.roll(lattice, 0, axis=0), -1, axis=1)\n",
    "    l_i_j = 2**4 * np.roll(np.roll(lattice, 0, axis=0), 0, axis=1)\n",
    "    l_i_jp1 = 2**5 * np.roll(np.roll(lattice, 0, axis=0), +1, axis=1)\n",
    "    # lower row\n",
    "    l_ip1_jm1 = 2**6 * np.roll(np.roll(lattice, +1, axis=0), -1, axis=1)\n",
    "    l_ip1_j = 2**7 * np.roll(np.roll(lattice, +1, axis=0), 0, axis=1)\n",
    "    l_ip1_jp1 = 2**8 * np.roll(np.roll(lattice, +1, axis=0), +1, axis=1)\n",
    "\n",
    "    # Neighbourhood state\n",
    "    NbgState = l_im1_jm1 + l_im1_j + l_im1_jp1 + l_i_jm1 + l_i_j + l_i_jp1 + l_ip1_jm1 + l_ip1_j + l_ip1_jp1\n",
    "    return NbgState"
   ]
  },
  {
   "cell_type": "code",
   "execution_count": 12,
   "id": "77b1bf17",
   "metadata": {},
   "outputs": [
    {
     "name": "stdout",
     "output_type": "stream",
     "text": [
      "[[  1   2   4]\n",
      " [  8  16  32]\n",
      " [ 64 128 256]]\n"
     ]
    }
   ],
   "source": [
    "ngb_list = ngb(lattice)\n",
    "print(ngb_list)"
   ]
  }
 ],
 "metadata": {
  "kernelspec": {
   "display_name": "Python 3 (ipykernel)",
   "language": "python",
   "name": "python3"
  },
  "language_info": {
   "codemirror_mode": {
    "name": "ipython",
    "version": 3
   },
   "file_extension": ".py",
   "mimetype": "text/x-python",
   "name": "python",
   "nbconvert_exporter": "python",
   "pygments_lexer": "ipython3",
   "version": "3.9.13"
  }
 },
 "nbformat": 4,
 "nbformat_minor": 5
}
